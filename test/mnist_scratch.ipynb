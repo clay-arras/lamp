{
 "cells": [
  {
   "cell_type": "code",
   "execution_count": 1,
   "metadata": {},
   "outputs": [],
   "source": [
    "import csv\n",
    "import os\n",
    "import sys\n",
    "\n",
    "\n",
    "PROJECT_ROOT = \"/home/nlin/workspace/code/projects/autograd_cpp\"\n",
    "sys.path.append(PROJECT_ROOT)"
   ]
  },
  {
   "cell_type": "code",
   "execution_count": 2,
   "metadata": {},
   "outputs": [],
   "source": [
    "def load_mnist_from_file(csvfile):\n",
    "    reader = csv.reader(csvfile)\n",
    "\n",
    "    data = []\n",
    "    labels = []\n",
    "    next(reader)\n",
    "    for row in reader:\n",
    "        row = [float(i) for i in row]\n",
    "        data.append([i * 1.0 / 255 for i in row[1:]])\n",
    "        labels.append([1 if row[0] == i else 0 for i in range(10)])\n",
    "    \n",
    "    n = len(data)\n",
    "    csvfile.close()\n",
    "\n",
    "    return data, labels, n\n",
    "\n",
    "csvfile = open(os.path.join(PROJECT_ROOT, \"data/mnist_test_short.csv\"))\n",
    "xs, ys, n = load_mnist_from_file(csvfile)"
   ]
  },
  {
   "cell_type": "code",
   "execution_count": 3,
   "metadata": {},
   "outputs": [],
   "source": [
    "from learning.micrograd_engine import Value\n",
    "from learning.micrograd_nn import Layer\n",
    "\n",
    "nin = 28 * 28\n",
    "W1 = Layer(nin, 256)\n",
    "W2 = Layer(256, 10)"
   ]
  },
  {
   "cell_type": "code",
   "execution_count": 4,
   "metadata": {},
   "outputs": [],
   "source": [
    "def softmax(x):\n",
    "    \"\"\"\n",
    "    Inputs an array of 10 values, output scales them\n",
    "    \"\"\"\n",
    "    assert len(x) == 10\n",
    "    epsilon = 1e-4\n",
    "    denom = sum([i.exp() for i in x], epsilon)\n",
    "    return [i.exp() / denom for i in x]\n",
    "\n",
    "def forward(x):\n",
    "    Z1 = W1(x, relu=True)\n",
    "    Z2 = softmax(W2(Z1, relu=False))\n",
    "    return Z2"
   ]
  },
  {
   "cell_type": "code",
   "execution_count": 10,
   "metadata": {},
   "outputs": [
    {
     "name": "stdout",
     "output_type": "stream",
     "text": [
      "Value(data=1479.449667090684)\n",
      "Value(data=694.2320520536119)\n"
     ]
    }
   ],
   "source": [
    "xs = xs[:5]\n",
    "ys = ys[:5]\n",
    "\n",
    "ypred = [forward(x) for x in xs]\n",
    "loss = Value(0.0)\n",
    "\n",
    "for y, yp in zip(ys, ypred):  \n",
    "    loss += -sum([i * j.log() for i, j in zip(y, yp)])\n",
    "\n",
    "print(loss)\n",
    "loss.backward()\n",
    "\n",
    "alpha = 0.01\n",
    "params = [*W1.parameters(), *W2.parameters()]\n",
    "\n",
    "for value in params:\n",
    "    value.data -= alpha * value.grad\n",
    "    value.grad = 0.0\n",
    "\n",
    "new_ypred = [forward(x) for x in xs]\n",
    "new_loss = Value(0.0)\n",
    "\n",
    "for y, yp in zip(ys, new_ypred):  \n",
    "    new_loss += -sum([i * j.log() for i, j in zip(y, yp)])\n",
    "\n",
    "print(new_loss)"
   ]
  },
  {
   "cell_type": "code",
   "execution_count": null,
   "metadata": {},
   "outputs": [],
   "source": []
  }
 ],
 "metadata": {
  "kernelspec": {
   "display_name": ".venv",
   "language": "python",
   "name": "python3"
  },
  "language_info": {
   "codemirror_mode": {
    "name": "ipython",
    "version": 3
   },
   "file_extension": ".py",
   "mimetype": "text/x-python",
   "name": "python",
   "nbconvert_exporter": "python",
   "pygments_lexer": "ipython3",
   "version": "3.11.11"
  }
 },
 "nbformat": 4,
 "nbformat_minor": 2
}
