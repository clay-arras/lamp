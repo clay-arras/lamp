{
 "cells": [
  {
   "cell_type": "markdown",
   "metadata": {},
   "source": [
    "# MNIST Neural Network from Scratch (PyTorch)\n",
    "\n",
    "Simple implementation of a neural network from scratch using PyTorch's autograd for MNIST digit classification. Built as a proof of concept before implementing it in C++. The accuracy is around 98% for validation, if you make the network deeper you can probably get it higher.\n",
    "\n",
    "## Architecture\n",
    "- Input (784) → Hidden (256) → Output (10)\n",
    "- ReLU + Softmax activations\n",
    "- Cross-entropy loss\n",
    "\n",
    "## Setup\n",
    "1. Place MNIST CSV files in `data/`\n",
    "2. Update PROJECT_ROOT path\n",
    "3. Run notebook"
   ]
  },
  {
   "cell_type": "code",
   "execution_count": 1,
   "metadata": {},
   "outputs": [],
   "source": [
    "import torch\n",
    "import csv\n",
    "import os\n",
    "\n",
    "\n",
    "PROJECT_ROOT = \"/home/nlin/workspace/code/projects/autograd_cpp\""
   ]
  },
  {
   "cell_type": "code",
   "execution_count": 2,
   "metadata": {},
   "outputs": [],
   "source": [
    "def load_mnist_from_file(csvfile):\n",
    "    reader = csv.reader(csvfile)\n",
    "\n",
    "    data = []\n",
    "    labels = []\n",
    "    next(reader)\n",
    "    for row in reader:\n",
    "        row = [float(i) for i in row]\n",
    "        data.append([i * 1.0 / 255 for i in row[1:]])\n",
    "        labels.append([1 if row[0] == i else 0 for i in range(10)])\n",
    "\n",
    "    n = len(data)\n",
    "    xs = torch.tensor(data)\n",
    "    ys = torch.tensor(labels)\n",
    "    csvfile.close()\n",
    "\n",
    "    return xs, ys, n\n",
    "\n",
    "\n",
    "csvfile = open(os.path.join(PROJECT_ROOT, \"data/mnist_train.csv\"))\n",
    "xs, ys, n = load_mnist_from_file(csvfile)\n",
    "xs = xs.cuda()\n",
    "ys = ys.cuda()"
   ]
  },
  {
   "cell_type": "code",
   "execution_count": 3,
   "metadata": {},
   "outputs": [],
   "source": [
    "VISUALIZE = False\n",
    "\n",
    "import matplotlib.pyplot as plt\n",
    "\n",
    "if VISUALIZE:\n",
    "    plt.figure(figsize=(28, 28))\n",
    "    for idx, i in enumerate(xs[:5]):\n",
    "        image = torch.reshape(i, (28, 28))\n",
    "        plt.subplot(1, 5, idx + 1)\n",
    "        plt.imshow(image)\n",
    "    plt.show()"
   ]
  },
  {
   "cell_type": "code",
   "execution_count": 4,
   "metadata": {},
   "outputs": [],
   "source": [
    "def softmax(X):\n",
    "    eX = torch.exp(X)\n",
    "    sum_eX = torch.sum(eX, dim=1)\n",
    "    t_sum_eX = sum_eX[None]\n",
    "    pt_sum_eX = torch.permute(t_sum_eX, (1, 0))\n",
    "    return eX / pt_sum_eX"
   ]
  },
  {
   "cell_type": "code",
   "execution_count": 5,
   "metadata": {},
   "outputs": [],
   "source": [
    "W1 = (torch.rand((784, 256), requires_grad=True) - 0.5).cuda()\n",
    "W2 = (torch.rand((256, 10), requires_grad=True) - 0.5).cuda()\n",
    "W1 = W1.detach().requires_grad_()\n",
    "W2 = W2.detach().requires_grad_()\n",
    "assert W1.is_leaf\n",
    "assert W2.is_leaf"
   ]
  },
  {
   "cell_type": "code",
   "execution_count": 6,
   "metadata": {},
   "outputs": [],
   "source": [
    "tcsvfile = open(os.path.join(PROJECT_ROOT, \"data/mnist_test_short.csv\"))\n",
    "txs, tys, tn = load_mnist_from_file(tcsvfile)\n",
    "txs = txs.cuda()\n",
    "tys = tys.cuda()"
   ]
  },
  {
   "cell_type": "code",
   "execution_count": null,
   "metadata": {},
   "outputs": [],
   "source": [
    "BATCH_SIZE = 128\n",
    "NUM_ITER = 100000\n",
    "learning_rate = 1e-3\n",
    "\n",
    "for it in range(NUM_ITER):\n",
    "    batch_indices = torch.randperm(n)[:BATCH_SIZE]\n",
    "    batch_xs = xs[batch_indices]\n",
    "    batch_ys = ys[batch_indices]\n",
    "\n",
    "    A1 = torch.mm(batch_xs, W1)\n",
    "    Z1 = torch.where(A1 > 0, A1, 0)\n",
    "    A2 = torch.mm(Z1, W2)\n",
    "    Z2 = softmax(A2)\n",
    "\n",
    "    loss = -torch.sum(\n",
    "        torch.log(Z2 + 1e-10) * batch_ys\n",
    "    )  # Added small constant for numerical stability\n",
    "    loss.backward()\n",
    "\n",
    "    with torch.no_grad():\n",
    "        W1 -= learning_rate * W1.grad\n",
    "        W2 -= learning_rate * W2.grad\n",
    "        W1.grad.zero_()\n",
    "        W2.grad.zero_()\n",
    "\n",
    "        assert W1.is_leaf\n",
    "        assert W2.is_leaf\n",
    "\n",
    "    y_pred = torch.argmax(Z2, dim=1)\n",
    "    y_true = torch.argmax(batch_ys, dim=1)\n",
    "    if it % 1000 == 0:\n",
    "        print(\n",
    "            f\"Iteration {it}; Loss: {loss.cpu().float()}, Accuracy: {(torch.sum(y_pred.cpu() == y_true.cpu()) / BATCH_SIZE).float()}\"\n",
    "        )\n",
    "\n",
    "    if it % 10000 == 0:\n",
    "        t_A1 = torch.mm(txs, W1)\n",
    "        t_Z1 = torch.where(t_A1 > 0, t_A1, 0)\n",
    "        t_A2 = torch.mm(t_Z1, W2)\n",
    "        t_Z2 = softmax(t_A2)\n",
    "\n",
    "        t_y_pred = torch.argmax(t_Z2, dim=1)\n",
    "        t_y_true = torch.argmax(tys, dim=1)\n",
    "        print(\n",
    "            \"Validation Accuracy: \",\n",
    "            (torch.sum(t_y_pred.cpu() == t_y_true.cpu()) / tn).float().item(),\n",
    "        )"
   ]
  },
  {
   "cell_type": "code",
   "execution_count": 9,
   "metadata": {},
   "outputs": [],
   "source": [
    "torch.save(\n",
    "    (W1.cpu(), W2.cpu()),\n",
    "    os.path.join(PROJECT_ROOT, f\"checkpoint/mnist_torch_ckpt_final.pt\"),\n",
    ")"
   ]
  },
  {
   "cell_type": "code",
   "execution_count": null,
   "metadata": {},
   "outputs": [],
   "source": [
    "ltcsvfile = open(os.path.join(PROJECT_ROOT, \"data/mnist_test.csv\"))\n",
    "ltxs, ltys, ltn = load_mnist_from_file(ltcsvfile)\n",
    "ltxs = ltxs.cuda()\n",
    "ltys = ltys.cuda()\n",
    "\n",
    "lt_A1 = torch.mm(txs, W1)\n",
    "lt_Z1 = torch.where(lt_A1 > 0, lt_A1, 0)\n",
    "lt_A2 = torch.mm(lt_Z1, W2)\n",
    "lt_Z2 = softmax(lt_A2)\n",
    "\n",
    "lt_y_pred = torch.argmax(lt_Z2, dim=1)\n",
    "lt_y_true = torch.argmax(tys, dim=1)\n",
    "print(\n",
    "    \"Validation Accuracy: \",\n",
    "    (torch.sum(lt_y_pred.cpu() == lt_y_true.cpu()) / tn).float().item(),\n",
    ")"
   ]
  }
 ],
 "metadata": {
  "kernelspec": {
   "display_name": ".venv",
   "language": "python",
   "name": "python3"
  },
  "language_info": {
   "codemirror_mode": {
    "name": "ipython",
    "version": 3
   },
   "file_extension": ".py",
   "mimetype": "text/x-python",
   "name": "python",
   "nbconvert_exporter": "python",
   "pygments_lexer": "ipython3",
   "version": "3.12.9"
  }
 },
 "nbformat": 4,
 "nbformat_minor": 2
}
