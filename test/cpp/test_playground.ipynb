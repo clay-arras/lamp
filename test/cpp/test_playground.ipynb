{
 "cells": [
  {
   "cell_type": "code",
   "execution_count": 1,
   "metadata": {},
   "outputs": [],
   "source": [
    "import numpy as np\n",
    "\n",
    "# shape = np.array([5, 2, 4, 7])\n",
    "#                 d0 d1 d2 d3"
   ]
  },
  {
   "cell_type": "code",
   "execution_count": 19,
   "metadata": {},
   "outputs": [
    {
     "name": "stdout",
     "output_type": "stream",
     "text": [
      "True\n"
     ]
    }
   ],
   "source": [
    "shape = np.array([5, 2, 4, 7])\n",
    "\n",
    "dim = 2\n",
    "desired_shape = np.array(shape)\n",
    "desired_shape[dim] = 1\n",
    "\n",
    "arr = np.random.rand(*shape.astype(int))\n",
    "sum_arr = np.zeros(desired_shape.astype(int))\n",
    "\n",
    "it = np.prod(desired_shape)\n",
    "for i in range(it):\n",
    "    indices = np.zeros(len(desired_shape))\n",
    "    for j in range(len(indices)):\n",
    "        indices[j] = int(i / np.prod(desired_shape[j+1:])) % desired_shape[j]\n",
    "\n",
    "    sum = 0\n",
    "    for j in range(shape[dim]):\n",
    "        indices[dim] = j\n",
    "        sum += arr[*indices.astype(int)]\n",
    "\n",
    "    indices[dim] = 0\n",
    "    sum_arr[*indices.astype(int)] = sum\n",
    "\n",
    "print(np.all(arr.sum(dim, keepdims=True) == sum_arr))"
   ]
  },
  {
   "cell_type": "code",
   "execution_count": null,
   "metadata": {},
   "outputs": [],
   "source": [
    "\n",
    "shape = np.array([5, 2, 4, 7])\n",
    "\n",
    "dim = 2\n",
    "desired_shape = np.array(shape)\n",
    "desired_shape[dim] = 1\n",
    "\n",
    "arr = np.random.rand(*shape.astype(int))\n",
    "sum_arr = np.zeros(desired_shape.astype(int))\n",
    "\n",
    "it = np.prod(desired_shape)\n",
    "for i in range(it):\n",
    "    indices = np.zeros(len(desired_shape))\n",
    "    for j in range(len(indices)):\n",
    "        indices[j] = int(i / np.prod(desired_shape[j+1:])) % desired_shape[j]\n",
    "\n",
    "    sum = 0\n",
    "    for j in range(shape[dim]):\n",
    "        indices[dim] = j\n",
    "        sum += arr[*indices.astype(int)]\n",
    "\n",
    "    indices[dim] = 0\n",
    "    sum_arr[*indices.astype(int)] = sum\n",
    "\n",
    "print(np.all(arr.sum(dim, keepdims=True) == sum_arr))"
   ]
  }
 ],
 "metadata": {
  "kernelspec": {
   "display_name": ".venv",
   "language": "python",
   "name": "python3"
  },
  "language_info": {
   "codemirror_mode": {
    "name": "ipython",
    "version": 3
   },
   "file_extension": ".py",
   "mimetype": "text/x-python",
   "name": "python",
   "nbconvert_exporter": "python",
   "pygments_lexer": "ipython3",
   "version": "3.11.11"
  }
 },
 "nbformat": 4,
 "nbformat_minor": 2
}
