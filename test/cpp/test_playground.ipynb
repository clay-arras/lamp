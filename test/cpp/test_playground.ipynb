{
 "cells": [
  {
   "cell_type": "code",
   "execution_count": 1,
   "metadata": {},
   "outputs": [],
   "source": [
    "import numpy as np\n",
    "\n",
    "# shape = np.array([5, 2, 4, 7])\n",
    "#                 d0 d1 d2 d3"
   ]
  },
  {
   "cell_type": "code",
   "execution_count": 19,
   "metadata": {},
   "outputs": [
    {
     "name": "stdout",
     "output_type": "stream",
     "text": [
      "True\n"
     ]
    }
   ],
   "source": [
    "shape = np.array([5, 2, 4, 7])\n",
    "\n",
    "dim = 2\n",
    "desired_shape = np.array(shape)\n",
    "desired_shape[dim] = 1\n",
    "\n",
    "arr = np.random.rand(*shape.astype(int))\n",
    "sum_arr = np.zeros(desired_shape.astype(int))\n",
    "\n",
    "it = np.prod(desired_shape)\n",
    "for i in range(it):\n",
    "    indices = np.zeros(len(desired_shape))\n",
    "    for j in range(len(indices)):\n",
    "        indices[j] = int(i / np.prod(desired_shape[j+1:])) % desired_shape[j]\n",
    "\n",
    "    sum = 0\n",
    "    for j in range(shape[dim]):\n",
    "        indices[dim] = j\n",
    "        sum += arr[*indices.astype(int)]\n",
    "\n",
    "    indices[dim] = 0\n",
    "    sum_arr[*indices.astype(int)] = sum\n",
    "\n",
    "print(np.all(arr.sum(dim, keepdims=True) == sum_arr))"
   ]
  },
  {
   "cell_type": "code",
   "execution_count": null,
   "metadata": {},
   "outputs": [],
   "source": [
    "\n",
    "shape = np.array([5, 2, 4, 7])\n",
    "\n",
    "dim = 2\n",
    "desired_shape = np.array(shape)\n",
    "desired_shape[dim] = 1\n",
    "\n",
    "arr = np.random.rand(*shape.astype(int))\n",
    "sum_arr = np.zeros(desired_shape.astype(int))\n",
    "\n",
    "it = np.prod(desired_shape)\n",
    "for i in range(it):\n",
    "    indices = np.zeros(len(desired_shape))\n",
    "    for j in range(len(indices)):\n",
    "        indices[j] = int(i / np.prod(desired_shape[j+1:])) % desired_shape[j]\n",
    "\n",
    "    sum = 0\n",
    "    for j in range(shape[dim]):\n",
    "        indices[dim] = j\n",
    "        sum += arr[*indices.astype(int)]\n",
    "\n",
    "    indices[dim] = 0\n",
    "    sum_arr[*indices.astype(int)] = sum\n",
    "\n",
    "print(np.all(arr.sum(dim, keepdims=True) == sum_arr))"
   ]
  },
  {
   "cell_type": "code",
   "execution_count": 8,
   "metadata": {},
   "outputs": [],
   "source": [
    "import torch\n",
    "\n",
    "def _to_col_major(mat):\n",
    "    return torch.tensor(mat).T.flatten().tolist()\n",
    "\n",
    "def _from_col_major(flat, like):\n",
    "    def T(ten):\n",
    "        return ten.permute(*torch.arange(ten.ndim - 1, -1, -1))\n",
    "\n",
    "    t = T(torch.tensor(flat).reshape(T(torch.tensor(like)).shape))\n",
    "    return t.tolist()\n",
    "\n",
    "def _to_row_major(mat):\n",
    "    return torch.tensor(mat).flatten().tolist()\n",
    "\n",
    "def _from_row_major(flat, like):\n",
    "    t = torch.tensor(flat).reshape(torch.tensor(like).shape)\n",
    "    return t.tolist()"
   ]
  },
  {
   "cell_type": "code",
   "execution_count": 10,
   "metadata": {},
   "outputs": [
    {
     "name": "stdout",
     "output_type": "stream",
     "text": [
      "[[1, 2, 3], [4, 5, 6]]\n"
     ]
    }
   ],
   "source": [
    "tmp = [[1, 2, 3], \n",
    "       [4, 5, 6]]\n",
    "\n",
    "print(_from_row_major(_to_row_major(tmp), tmp))"
   ]
  },
  {
   "cell_type": "code",
   "execution_count": null,
   "metadata": {},
   "outputs": [],
   "source": []
  }
 ],
 "metadata": {
  "kernelspec": {
   "display_name": ".venv",
   "language": "python",
   "name": "python3"
  },
  "language_info": {
   "codemirror_mode": {
    "name": "ipython",
    "version": 3
   },
   "file_extension": ".py",
   "mimetype": "text/x-python",
   "name": "python",
   "nbconvert_exporter": "python",
   "pygments_lexer": "ipython3",
   "version": "3.11.11"
  }
 },
 "nbformat": 4,
 "nbformat_minor": 2
}
