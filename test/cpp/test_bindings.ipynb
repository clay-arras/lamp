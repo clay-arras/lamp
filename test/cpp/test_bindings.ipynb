{
 "cells": [
  {
   "cell_type": "code",
   "execution_count": 101,
   "metadata": {},
   "outputs": [],
   "source": [
    "import sys\n",
    "sys.path.append(\"./build\") \n",
    "\n",
    "from cpp_custom_bind import *\n",
    "import torch"
   ]
  },
  {
   "cell_type": "code",
   "execution_count": 102,
   "metadata": {},
   "outputs": [],
   "source": [
    "def torch_grads(mat_a, mat_b, op):\n",
    "    torch_mat_a = torch.tensor(mat_a, requires_grad=True, dtype=torch.float64)\n",
    "    torch_mat_b = torch.tensor(mat_b, requires_grad=True, dtype=torch.float64)\n",
    "    torch_mat_c = op(torch_mat_a, torch_mat_b)\n",
    "\n",
    "    torch_mat_c.backward(torch.ones_like(torch_mat_c, dtype=torch.float64))\n",
    "\n",
    "    torch_a_grad = torch_mat_a.grad.tolist()\n",
    "    torch_b_grad = torch_mat_b.grad.tolist()\n",
    "    return torch_a_grad, torch_b_grad"
   ]
  },
  {
   "cell_type": "code",
   "execution_count": 103,
   "metadata": {},
   "outputs": [],
   "source": [
    "def _matrix_to_column_major_list(mat):\n",
    "    mat = torch.tensor(mat)\n",
    "    fmat = torch.flatten(mat.T)\n",
    "    return fmat.tolist()\n",
    "\n",
    "def _column_major_list_to_matrix(fmat, mat): # mat is the original matrix\n",
    "    fmat = torch.tensor(fmat)\n",
    "    mat = torch.tensor(mat)\n",
    "    rmat = fmat.reshape(mat.T.shape).T\n",
    "    return rmat.tolist()\n",
    "\n",
    "def _mat_shape(mat):\n",
    "    return list(torch.tensor(mat).shape)"
   ]
  },
  {
   "cell_type": "code",
   "execution_count": 104,
   "metadata": {},
   "outputs": [],
   "source": [
    "def cpp_grads(mat_a, mat_b, op):\n",
    "    cpp_ten_a = cTensor(_matrix_to_column_major_list(mat_a), _mat_shape(mat_a))\n",
    "    cpp_ten_b = cTensor(_matrix_to_column_major_list(mat_b), _mat_shape(mat_b))\n",
    "\n",
    "    cpp_var_a = cVariable(cpp_ten_a, True)\n",
    "    cpp_var_b = cVariable(cpp_ten_b, True)\n",
    "\n",
    "    op(cpp_var_a, cpp_var_b)\n",
    "    cpp_a_grad = _column_major_list_to_matrix(cpp_var_a.grad.data, mat_a)\n",
    "    cpp_b_grad = _column_major_list_to_matrix(cpp_var_b.grad.data, mat_b)\n",
    "    return cpp_a_grad, cpp_b_grad"
   ]
  },
  {
   "cell_type": "code",
   "execution_count": 117,
   "metadata": {},
   "outputs": [],
   "source": [
    "import random\n",
    "\n",
    "LO_R, HI_R = 4, 10\n",
    "LO_N, HI_N = -10, 10\n",
    "EPSILON = 1e-5\n",
    "\n",
    "def generate_matrix(rows, cols): \n",
    "    matrix = [[random.uniform(LO_N, HI_N) for _ in range(cols)] for _ in range(rows)]\n",
    "    return matrix\n",
    "\n",
    "def _similar_enough(mat_a, mat_b):\n",
    "    mat_a = torch.tensor(mat_a)\n",
    "    mat_b = torch.tensor(mat_b)\n",
    "    return torch.all(torch.abs(mat_a - mat_b) < EPSILON)\n",
    "\n",
    "def binary_ops_test(ops): # ops is tuple, (name, cpp_op, torch_op)\n",
    "    rows, cols = random.randint(LO_R, HI_R), random.randint(LO_R, HI_R)\n",
    "    mat_a = generate_matrix(rows, cols)\n",
    "    mat_b = generate_matrix(rows, cols)\n",
    "\n",
    "    cpp_a_grad, cpp_b_grad = cpp_grads(mat_a, mat_b, ops[1])\n",
    "    torch_a_grad, torch_b_grad = torch_grads(mat_a, mat_b, ops[2])\n",
    "\n",
    "    assert _similar_enough(cpp_a_grad, torch_a_grad), f\"{ops[0]} failed, \\ncpp_a_grad  : {cpp_a_grad}; \\ntorch_a_grad: {torch_a_grad}\"\n",
    "    assert _similar_enough(cpp_b_grad, torch_b_grad), f\"{ops[0]} failed, \\ncpp_b_grad  : {cpp_b_grad}; \\ntorch_b_grad: {torch_b_grad}\"\n"
   ]
  },
  {
   "cell_type": "code",
   "execution_count": 118,
   "metadata": {},
   "outputs": [],
   "source": [
    "binary_ops_tuples = [\n",
    "    (\"add\", add, torch.add),\n",
    "    (\"sub\", sub, torch.sub),\n",
    "    (\"mul\", mul, torch.mul),\n",
    "    (\"div\", div, torch.div),\n",
    "]\n",
    "\n",
    "for ops in binary_ops_tuples:\n",
    "    binary_ops_test(ops)"
   ]
  },
  {
   "cell_type": "code",
   "execution_count": null,
   "metadata": {},
   "outputs": [],
   "source": []
  }
 ],
 "metadata": {
  "kernelspec": {
   "display_name": ".venv",
   "language": "python",
   "name": "python3"
  },
  "language_info": {
   "codemirror_mode": {
    "name": "ipython",
    "version": 3
   },
   "file_extension": ".py",
   "mimetype": "text/x-python",
   "name": "python",
   "nbconvert_exporter": "python",
   "pygments_lexer": "ipython3",
   "version": "3.12.9"
  }
 },
 "nbformat": 4,
 "nbformat_minor": 2
}
