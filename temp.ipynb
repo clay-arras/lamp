{
 "cells": [
  {
   "cell_type": "code",
   "execution_count": 14,
   "metadata": {},
   "outputs": [
    {
     "name": "stdout",
     "output_type": "stream",
     "text": [
      "Gradient of weights1:\n",
      "tensor([[-0.0012, -0.0019],\n",
      "        [-0.0016, -0.0024]])\n",
      "\n",
      "Gradient of inputs:\n",
      "tensor([[-0.0008, -0.0011],\n",
      "        [-0.0018, -0.0026]])\n",
      "\n",
      "Gradient of weights2:\n",
      "tensor([[-1.0069, -1.0082],\n",
      "        [-0.9989, -1.0002]])\n"
     ]
    }
   ],
   "source": [
    "import torch\n",
    "\n",
    "weights1 = torch.tensor([[0.1, 0.2], [0.3, 0.4]], requires_grad=True)\n",
    "inputs = torch.tensor([[0.05, 0.15], [0.25, 0.35]], requires_grad=True)\n",
    "weights2 = torch.tensor([[0.01, 0.02], [0.03, 0.04]], requires_grad=True)\n",
    "\n",
    "layer1_linear = weights1.matmul(inputs.t())\n",
    "layer1_output = layer1_linear\n",
    "layer1_activated = torch.relu(layer1_output)\n",
    "\n",
    "layer2_linear = layer1_activated.matmul(weights2)\n",
    "layer2_sum = layer2_linear.sum(1, keepdim=True)\n",
    "layer2_output = layer2_sum\n",
    "\n",
    "layer3_linear = layer2_output * weights1\n",
    "layer3_nonlinear = torch.exp(torch.clamp(layer3_linear, -10, 10))\n",
    "layer3_output = layer3_nonlinear + layer2_output\n",
    "\n",
    "logits = layer3_output.matmul(weights2.t())\n",
    "probabilities = torch.sigmoid(logits)\n",
    "loss = -torch.log(probabilities + 1e-10) + 0.1\n",
    "loss_sum = loss.sum(0)\n",
    "\n",
    "loss_sum.backward(torch.ones_like(loss_sum))\n",
    "\n",
    "print(\"Gradient of weights1:\")\n",
    "print(weights1.grad)\n",
    "print(\"\\nGradient of inputs:\")\n",
    "print(inputs.grad) \n",
    "print(\"\\nGradient of weights2:\")\n",
    "print(weights2.grad)"
   ]
  },
  {
   "cell_type": "code",
   "execution_count": 21,
   "metadata": {},
   "outputs": [
    {
     "name": "stdout",
     "output_type": "stream",
     "text": [
      "Gradient of weights1:\n",
      "tensor([[-0.0012, -0.0019],\n",
      "        [-0.0016, -0.0024]])\n",
      "\n",
      "Gradient of inputs:\n",
      "tensor([[-0.0008, -0.0011],\n",
      "        [-0.0018, -0.0026]])\n",
      "\n",
      "Gradient of weights2:\n",
      "tensor([[-1.0069, -1.0082],\n",
      "        [-0.9989, -1.0002]])\n"
     ]
    }
   ],
   "source": [
    "import torch\n",
    "\n",
    "weights1 = torch.tensor([[0.1, 0.2],\n",
    "                         [0.3, 0.4]], requires_grad=True)\n",
    "inputs   = torch.tensor([[0.05, 0.15],\n",
    "                         [0.25, 0.35]], requires_grad=True)\n",
    "weights2 = torch.tensor([[0.01, 0.02],\n",
    "                         [0.03, 0.04]], requires_grad=True)\n",
    "\n",
    "layer1_linear = weights1.matmul(inputs.transpose(0,1))\n",
    "layer1_activated = torch.relu(layer1_linear)\n",
    "\n",
    "layer2_linear = layer1_activated.matmul(weights2)\n",
    "layer2_sum = layer2_linear.sum(1, keepdim=True)  # Keep dimension to make it [2,1] instead of [2]\n",
    "layer2_output = layer2_sum\n",
    "\n",
    "expand_tensor = torch.tensor([[1.0, 1.0]])\n",
    "layer2_output_expanded = layer2_output.matmul(expand_tensor)\n",
    "\n",
    "layer3_linear = layer2_output_expanded * weights1\n",
    "layer3_nonlinear = torch.exp(layer3_linear)\n",
    "layer3_output = layer3_nonlinear + layer2_output_expanded\n",
    "\n",
    "logits = layer3_output.matmul(weights2.transpose(0,1))\n",
    "\n",
    "probabilities = 1.0 / (1.0 + torch.exp(-1.0 * logits))\n",
    "\n",
    "epsilon = 1e-10\n",
    "log_probs = torch.log(probabilities + epsilon)\n",
    "neg_log_probs = -1.0 * log_probs + 0.1\n",
    "\n",
    "loss_sum = neg_log_probs.sum(0).sum(0)\n",
    "\n",
    "loss_sum.backward()\n",
    "\n",
    "print(\"Gradient of weights1:\")\n",
    "print(weights1.grad)\n",
    "print(\"\\nGradient of inputs:\")\n",
    "print(inputs.grad)\n",
    "print(\"\\nGradient of weights2:\")\n",
    "print(weights2.grad)"
   ]
  },
  {
   "cell_type": "code",
   "execution_count": null,
   "metadata": {},
   "outputs": [],
   "source": []
  }
 ],
 "metadata": {
  "kernelspec": {
   "display_name": ".venv",
   "language": "python",
   "name": "python3"
  },
  "language_info": {
   "codemirror_mode": {
    "name": "ipython",
    "version": 3
   },
   "file_extension": ".py",
   "mimetype": "text/x-python",
   "name": "python",
   "nbconvert_exporter": "python",
   "pygments_lexer": "ipython3",
   "version": "3.11.11"
  }
 },
 "nbformat": 4,
 "nbformat_minor": 2
}
