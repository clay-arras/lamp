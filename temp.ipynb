{
 "cells": [
  {
   "cell_type": "code",
   "execution_count": 4,
   "metadata": {},
   "outputs": [
    {
     "name": "stdout",
     "output_type": "stream",
     "text": [
      "Gradient of x:\n",
      "tensor([[[ 1.8667,  6.0516],\n",
      "         [ 9.1799, 12.1202]],\n",
      "\n",
      "        [[15.0050, 17.8703],\n",
      "         [20.7287, 23.5852]]])\n",
      "\n",
      "Gradient of y:\n",
      "tensor([[[0.9483, 1.5120],\n",
      "         [2.3817, 3.3420]],\n",
      "\n",
      "        [[4.3343, 5.3398],\n",
      "         [6.3511, 7.3649]]])\n",
      "\n",
      "Gradient of z:\n",
      "tensor([[[ -1.2159,  -3.0283],\n",
      "         [ -4.6622,  -6.2541]],\n",
      "\n",
      "        [[ -7.8510,  -9.4771],\n",
      "         [-11.1485, -12.8781]]])\n"
     ]
    }
   ],
   "source": [
    "import torch\n",
    "\n",
    "x = torch.tensor([[[1.0, 2.0], [3.0, 4.0]], \n",
    "                  [[5.0, 6.0], [7.0, 8.0]]], requires_grad=True)\n",
    "y = torch.tensor([[[0.5, 1.5], [2.5, 3.5]], \n",
    "                  [[4.5, 5.5], [6.5, 7.5]]], requires_grad=True)\n",
    "z = torch.tensor([[[0.1, 0.2], [0.3, 0.4]], \n",
    "                  [[0.5, 0.6], [0.7, 0.8]]], requires_grad=True)\n",
    "\n",
    "a = x + y\n",
    "b = x - z \n",
    "c = y * z \n",
    "d = x / (y + 0.1)  \n",
    "e = torch.log(x + 0.1) \n",
    "f = torch.exp(z)  \n",
    "\n",
    "g = a * b + c  \n",
    "h = d * e - f  \n",
    "\n",
    "result = g + h * (e + 0.1)\n",
    "result.backward(torch.ones_like(result))\n",
    "\n",
    "print(\"Gradient of x:\")\n",
    "print(x.grad)\n",
    "print(\"\\nGradient of y:\")\n",
    "print(y.grad) \n",
    "print(\"\\nGradient of z:\")\n",
    "print(z.grad)\n"
   ]
  },
  {
   "cell_type": "code",
   "execution_count": 6,
   "metadata": {},
   "outputs": [
    {
     "data": {
      "text/plain": [
       "tensor([[[False,  True],\n",
       "         [ True,  True]],\n",
       "\n",
       "        [[ True,  True],\n",
       "         [ True,  True]]])"
      ]
     },
     "execution_count": 6,
     "metadata": {},
     "output_type": "execute_result"
    }
   ],
   "source": []
  },
  {
   "cell_type": "code",
   "execution_count": null,
   "metadata": {},
   "outputs": [],
   "source": []
  }
 ],
 "metadata": {
  "kernelspec": {
   "display_name": ".venv",
   "language": "python",
   "name": "python3"
  },
  "language_info": {
   "codemirror_mode": {
    "name": "ipython",
    "version": 3
   },
   "file_extension": ".py",
   "mimetype": "text/x-python",
   "name": "python",
   "nbconvert_exporter": "python",
   "pygments_lexer": "ipython3",
   "version": "3.11.11"
  }
 },
 "nbformat": 4,
 "nbformat_minor": 2
}
