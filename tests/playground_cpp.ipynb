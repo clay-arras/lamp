{
 "cells": [
  {
   "cell_type": "code",
   "execution_count": 14,
   "metadata": {
    "vscode": {
     "languageId": "plaintext"
    }
   },
   "outputs": [],
   "source": [
    "// #include \"include/lamppp/lamppp.hpp\"\n",
    "#pragma cling add_include_path(\"include/lamppp/lamppp.hpp\")\n",
    "#include <vector>"
   ]
  },
  {
   "cell_type": "code",
   "execution_count": 15,
   "metadata": {
    "vscode": {
     "languageId": "plaintext"
    }
   },
   "outputs": [
    {
     "name": "stderr",
     "output_type": "stream",
     "text": [
      "\u001b[1minput_line_22:3:7: \u001b[0m\u001b[0;1;31merror: \u001b[0m\u001b[1muse of undeclared identifier 'lmp'\u001b[0m\n",
      "      lmp::tensor::Tensor(std::vector<int>{1, 2, 3}, std::vector<size_t>{3, 1});\n",
      "\u001b[0;1;32m      ^\n",
      "\u001b[0mIn file included from input_line_5:1:\n",
      "In file included from /home/nlin/miniconda3/envs/xeus-cling/include/xeus/xinterpreter.hpp:13:\n",
      "In file included from /home/nlin/miniconda3/envs/xeus-cling/bin/../lib/gcc/../../x86_64-conda-linux-gnu/include/c++/10.4.0/functional:62:\n",
      "In file included from /home/nlin/miniconda3/envs/xeus-cling/bin/../lib/gcc/../../x86_64-conda-linux-gnu/include/c++/10.4.0/vector:67:\n",
      "\u001b[1m/home/nlin/miniconda3/envs/xeus-cling/bin/../lib/gcc/../../x86_64-conda-linux-gnu/include/c++/10.4.0/bits/stl_vector.h:401:66: \u001b[0m\u001b[0;1;31merror: \u001b[0m\u001b[1mno member named 'value' in 'std::is_same<int, int>'\u001b[0m\n",
      "      static_assert(is_same<typename remove_cv<_Tp>::type, _Tp>::value,\n",
      "\u001b[0;1;32m                    ~~~~~~~~~~~~~~~~~~~~~~~~~~~~~~~~~~~~~~~~~~~~~^\n",
      "\u001b[0m\u001b[1minput_line_22:3:27: \u001b[0m\u001b[0;1;30mnote: \u001b[0min instantiation of template class 'std::vector<int, std::allocator<int> >' requested here\u001b[0m\n",
      "      lmp::tensor::Tensor(std::vector<int>{1, 2, 3}, std::vector<size_t>{3, 1});\n",
      "\u001b[0;1;32m                          ^\n",
      "\u001b[0mIn file included from input_line_5:1:\n",
      "In file included from /home/nlin/miniconda3/envs/xeus-cling/include/xeus/xinterpreter.hpp:13:\n",
      "In file included from /home/nlin/miniconda3/envs/xeus-cling/bin/../lib/gcc/../../x86_64-conda-linux-gnu/include/c++/10.4.0/functional:62:\n",
      "In file included from /home/nlin/miniconda3/envs/xeus-cling/bin/../lib/gcc/../../x86_64-conda-linux-gnu/include/c++/10.4.0/vector:67:\n",
      "\u001b[1m/home/nlin/miniconda3/envs/xeus-cling/bin/../lib/gcc/../../x86_64-conda-linux-gnu/include/c++/10.4.0/bits/stl_vector.h:404:64: \u001b[0m\u001b[0;1;31merror: \u001b[0m\u001b[1mno member named 'value' in 'std::is_same<int, int>'\u001b[0m\n",
      "      static_assert(is_same<typename _Alloc::value_type, _Tp>::value,\n",
      "\u001b[0;1;32m                    ~~~~~~~~~~~~~~~~~~~~~~~~~~~~~~~~~~~~~~~~~~~^\n",
      "\u001b[0m\u001b[1minput_line_22:3:54: \u001b[0m\u001b[0;1;31merror: \u001b[0m\u001b[1mno matching constructor for initialization of 'std::vector<size_t>' (aka 'vector<unsigned long>')\u001b[0m\n",
      "      lmp::tensor::Tensor(std::vector<int>{1, 2, 3}, std::vector<size_t>{3, 1});\n",
      "\u001b[0;1;32m                                                     ^                  ~~~~~~\n",
      "\u001b[0m\u001b[1m/home/nlin/miniconda3/envs/xeus-cling/bin/../lib/gcc/../../x86_64-conda-linux-gnu/include/c++/10.4.0/bits/stl_vector.h:510:7: \u001b[0m\u001b[0;1;30mnote: \u001b[0mcandidate constructor not viable: no known conversion from 'int' to 'const std::vector<unsigned long, std::allocator<unsigned long> >::allocator_type' (aka 'const std::allocator<unsigned long>') for 2nd argument\u001b[0m\n",
      "      vector(size_type __n, const allocator_type& __a = allocator_type())\n",
      "\u001b[0;1;32m      ^\n",
      "\u001b[0m\u001b[1m/home/nlin/miniconda3/envs/xeus-cling/bin/../lib/gcc/../../x86_64-conda-linux-gnu/include/c++/10.4.0/bits/stl_vector.h:575:7: \u001b[0m\u001b[0;1;30mnote: \u001b[0mcandidate constructor not viable: no known conversion from 'int' to 'const std::vector<unsigned long, std::allocator<unsigned long> >' for 1st argument\u001b[0m\n",
      "      vector(const vector& __x, const allocator_type& __a)\n",
      "\u001b[0;1;32m      ^\n",
      "\u001b[0m\u001b[1m/home/nlin/miniconda3/envs/xeus-cling/bin/../lib/gcc/../../x86_64-conda-linux-gnu/include/c++/10.4.0/bits/stl_vector.h:607:7: \u001b[0m\u001b[0;1;30mnote: \u001b[0mcandidate constructor not viable: no known conversion from 'int' to 'std::vector<unsigned long, std::allocator<unsigned long> >' for 1st argument\u001b[0m\n",
      "      vector(vector&& __rv, const allocator_type& __m)\n",
      "\u001b[0;1;32m      ^\n",
      "\u001b[0m\u001b[1m/home/nlin/miniconda3/envs/xeus-cling/bin/../lib/gcc/../../x86_64-conda-linux-gnu/include/c++/10.4.0/bits/stl_vector.h:653:2: \u001b[0m\u001b[0;1;30mnote: \u001b[0mcandidate template ignored: substitution failure [with _InputIterator = int]: no type named 'iterator_category' in 'std::iterator_traits<int>'\u001b[0m\n",
      "        vector(_InputIterator __first, _InputIterator __last,\n",
      "\u001b[0;1;32m        ^\n",
      "\u001b[0m\u001b[1m/home/nlin/miniconda3/envs/xeus-cling/bin/../lib/gcc/../../x86_64-conda-linux-gnu/include/c++/10.4.0/bits/stl_vector.h:497:7: \u001b[0m\u001b[0;1;30mnote: \u001b[0mcandidate constructor not viable: requires single argument '__a', but 2 arguments were provided\u001b[0m\n",
      "      vector(const allocator_type& __a) _GLIBCXX_NOEXCEPT\n",
      "\u001b[0;1;32m      ^\n",
      "\u001b[0m\u001b[1m/home/nlin/miniconda3/envs/xeus-cling/bin/../lib/gcc/../../x86_64-conda-linux-gnu/include/c++/10.4.0/bits/stl_vector.h:553:7: \u001b[0m\u001b[0;1;30mnote: \u001b[0mcandidate constructor not viable: requires single argument '__x', but 2 arguments were provided\u001b[0m\n",
      "      vector(const vector& __x)\n",
      "\u001b[0;1;32m      ^\n",
      "\u001b[0m\u001b[1m/home/nlin/miniconda3/envs/xeus-cling/bin/../lib/gcc/../../x86_64-conda-linux-gnu/include/c++/10.4.0/bits/stl_vector.h:572:7: \u001b[0m\u001b[0;1;30mnote: \u001b[0mcandidate constructor not viable: requires 1 argument, but 2 were provided\u001b[0m\n",
      "      vector(vector&&) noexcept = default;\n",
      "\u001b[0;1;32m      ^\n",
      "\u001b[0m\u001b[1m/home/nlin/miniconda3/envs/xeus-cling/bin/../lib/gcc/../../x86_64-conda-linux-gnu/include/c++/10.4.0/bits/stl_vector.h:585:7: \u001b[0m\u001b[0;1;30mnote: \u001b[0mcandidate constructor not viable: requires 3 arguments, but 2 were provided\u001b[0m\n",
      "      vector(vector&& __rv, const allocator_type& __m, true_type) noexcept\n",
      "\u001b[0;1;32m      ^\n",
      "\u001b[0m\u001b[1m/home/nlin/miniconda3/envs/xeus-cling/bin/../lib/gcc/../../x86_64-conda-linux-gnu/include/c++/10.4.0/bits/stl_vector.h:589:7: \u001b[0m\u001b[0;1;30mnote: \u001b[0mcandidate constructor not viable: requires 3 arguments, but 2 were provided\u001b[0m\n",
      "      vector(vector&& __rv, const allocator_type& __m, false_type)\n",
      "\u001b[0;1;32m      ^\n",
      "\u001b[0m\u001b[1m/home/nlin/miniconda3/envs/xeus-cling/bin/../lib/gcc/../../x86_64-conda-linux-gnu/include/c++/10.4.0/bits/stl_vector.h:487:7: \u001b[0m\u001b[0;1;30mnote: \u001b[0mcandidate constructor not viable: requires 0 arguments, but 2 were provided\u001b[0m\n",
      "      vector() = default;\n",
      "\u001b[0;1;32m      ^\n",
      "\u001b[0mIn file included from input_line_1:1:\n",
      "In file included from /home/nlin/miniconda3/envs/xeus-cling/bin/../lib/gcc/../../x86_64-conda-linux-gnu/include/c++/10.4.0/new:41:\n",
      "In file included from /home/nlin/miniconda3/envs/xeus-cling/bin/../lib/gcc/../../x86_64-conda-linux-gnu/include/c++/10.4.0/exception:147:\n",
      "In file included from /home/nlin/miniconda3/envs/xeus-cling/bin/../lib/gcc/../../x86_64-conda-linux-gnu/include/c++/10.4.0/bits/exception_ptr.h:43:\n",
      "In file included from /home/nlin/miniconda3/envs/xeus-cling/bin/../lib/gcc/../../x86_64-conda-linux-gnu/include/c++/10.4.0/bits/move.h:57:\n",
      "\u001b[1m/home/nlin/miniconda3/envs/xeus-cling/bin/../lib/gcc/../../x86_64-conda-linux-gnu/include/c++/10.4.0/type_traits:121:31: \u001b[0m\u001b[0;1;31merror: \u001b[0m\u001b[1mno member named 'value' in 'std::is_reference<int>'\u001b[0m\n",
      "    : public conditional<_B1::value, _B1, __or_<_B2, _B3, _Bn...>>::type\n",
      "\u001b[0;1;32m                         ~~~~~^\n",
      "\u001b[0m\u001b[1m/home/nlin/miniconda3/envs/xeus-cling/bin/../lib/gcc/../../x86_64-conda-linux-gnu/include/c++/10.4.0/type_traits:206:24: \u001b[0m\u001b[0;1;30mnote: \u001b[0min instantiation of template class 'std::__or_<std::is_reference<int>, std::is_function<int>, std::is_void<int>, std::__is_array_unknown_bounds<int> >' requested here\u001b[0m\n",
      "    constexpr typename __or_<\n",
      "\u001b[0;1;32m                       ^\n",
      "\u001b[0m\u001b[1m/home/nlin/miniconda3/envs/xeus-cling/bin/../lib/gcc/../../x86_64-conda-linux-gnu/include/c++/10.4.0/type_traits:909:21: \u001b[0m\u001b[0;1;30mnote: \u001b[0mwhile substituting deduced template arguments into function template '__is_complete_or_unbounded' [with _TypeIdentity = std::__type_identity<int>, _NestedType = (no value)]\u001b[0m\n",
      "      static_assert(std::__is_complete_or_unbounded(__type_identity<_Tp>{}),\n",
      "\u001b[0;1;32m                    ^\n",
      "\u001b[0m\u001b[1m/home/nlin/miniconda3/envs/xeus-cling/bin/../lib/gcc/../../x86_64-conda-linux-gnu/include/c++/10.4.0/bits/stl_uninitialized.h:137:21: \u001b[0m\u001b[0;1;30mnote: \u001b[0min instantiation of template class 'std::is_constructible<int, const int &>' requested here\u001b[0m\n",
      "      static_assert(is_constructible<_ValueType2, decltype(*__first)>::value,\n",
      "\u001b[0;1;32m                    ^\n",
      "\u001b[0m\u001b[1m/home/nlin/miniconda3/envs/xeus-cling/bin/../lib/gcc/../../x86_64-conda-linux-gnu/include/c++/10.4.0/bits/stl_uninitialized.h:325:19: \u001b[0m\u001b[0;1;30mnote: \u001b[0min instantiation of function template specialization 'std::uninitialized_copy<const int *, int *>' requested here\u001b[0m\n",
      "    { return std::uninitialized_copy(__first, __last, __result); }\n",
      "\u001b[0;1;32m                  ^\n",
      "\u001b[0m\u001b[1m/home/nlin/miniconda3/envs/xeus-cling/bin/../lib/gcc/../../x86_64-conda-linux-gnu/include/c++/10.4.0/bits/stl_vector.h:1585:11: \u001b[0m\u001b[0;1;30mnote: \u001b[0min instantiation of function template specialization 'std::__uninitialized_copy_a<const int *, int *, int>' requested here\u001b[0m\n",
      "            std::__uninitialized_copy_a(__first, __last,\n",
      "\u001b[0;1;32m                 ^\n",
      "\u001b[0m\u001b[1m/home/nlin/miniconda3/envs/xeus-cling/bin/../lib/gcc/../../x86_64-conda-linux-gnu/include/c++/10.4.0/bits/stl_vector.h:629:2: \u001b[0m\u001b[0;1;30mnote: \u001b[0min instantiation of function template specialization 'std::vector<int, std::allocator<int> >::_M_range_initialize<const int *>' requested here\u001b[0m\n",
      "        _M_range_initialize(__l.begin(), __l.end(),\n",
      "\u001b[0;1;32m        ^\n",
      "\u001b[0m\u001b[1minput_line_22:3:27: \u001b[0m\u001b[0;1;30mnote: \u001b[0min instantiation of member function 'std::vector<int, std::allocator<int> >::vector' requested here\u001b[0m\n",
      "      lmp::tensor::Tensor(std::vector<int>{1, 2, 3}, std::vector<size_t>{3, 1});\n",
      "\u001b[0;1;32m                          ^\n",
      "\u001b[0mIn file included from input_line_5:1:\n",
      "In file included from /home/nlin/miniconda3/envs/xeus-cling/include/xeus/xinterpreter.hpp:13:\n",
      "In file included from /home/nlin/miniconda3/envs/xeus-cling/bin/../lib/gcc/../../x86_64-conda-linux-gnu/include/c++/10.4.0/functional:62:\n",
      "In file included from /home/nlin/miniconda3/envs/xeus-cling/bin/../lib/gcc/../../x86_64-conda-linux-gnu/include/c++/10.4.0/vector:66:\n",
      "\u001b[1m/home/nlin/miniconda3/envs/xeus-cling/bin/../lib/gcc/../../x86_64-conda-linux-gnu/include/c++/10.4.0/bits/stl_uninitialized.h:137:72: \u001b[0m\u001b[0;1;31merror: \u001b[0m\u001b[1mno member named 'value' in 'std::is_constructible<int, const int &>'\u001b[0m\n",
      "      static_assert(is_constructible<_ValueType2, decltype(*__first)>::value,\n",
      "\u001b[0;1;32m                    ~~~~~~~~~~~~~~~~~~~~~~~~~~~~~~~~~~~~~~~~~~~~~~~~~~~^\n",
      "\u001b[0m\u001b[1m/home/nlin/miniconda3/envs/xeus-cling/bin/../lib/gcc/../../x86_64-conda-linux-gnu/include/c++/10.4.0/bits/stl_uninitialized.h:325:19: \u001b[0m\u001b[0;1;30mnote: \u001b[0min instantiation of function template specialization 'std::uninitialized_copy<const int *, int *>' requested here\u001b[0m\n",
      "    { return std::uninitialized_copy(__first, __last, __result); }\n",
      "\u001b[0;1;32m                  ^\n",
      "\u001b[0m\u001b[1m/home/nlin/miniconda3/envs/xeus-cling/bin/../lib/gcc/../../x86_64-conda-linux-gnu/include/c++/10.4.0/bits/stl_vector.h:1585:11: \u001b[0m\u001b[0;1;30mnote: \u001b[0min instantiation of function template specialization 'std::__uninitialized_copy_a<const int *, int *, int>' requested here\u001b[0m\n",
      "            std::__uninitialized_copy_a(__first, __last,\n",
      "\u001b[0;1;32m                 ^\n",
      "\u001b[0m\u001b[1m/home/nlin/miniconda3/envs/xeus-cling/bin/../lib/gcc/../../x86_64-conda-linux-gnu/include/c++/10.4.0/bits/stl_vector.h:629:2: \u001b[0m\u001b[0;1;30mnote: \u001b[0min instantiation of function template specialization 'std::vector<int, std::allocator<int> >::_M_range_initialize<const int *>' requested here\u001b[0m\n",
      "        _M_range_initialize(__l.begin(), __l.end(),\n",
      "\u001b[0;1;32m        ^\n",
      "\u001b[0m\u001b[1minput_line_22:3:27: \u001b[0m\u001b[0;1;30mnote: \u001b[0min instantiation of member function 'std::vector<int, std::allocator<int> >::vector' requested here\u001b[0m\n",
      "      lmp::tensor::Tensor(std::vector<int>{1, 2, 3}, std::vector<size_t>{3, 1});\n",
      "\u001b[0;1;32m                          ^\n",
      "\u001b[0mIn file included from input_line_5:1:\n",
      "In file included from /home/nlin/miniconda3/envs/xeus-cling/include/xeus/xinterpreter.hpp:13:\n",
      "In file included from /home/nlin/miniconda3/envs/xeus-cling/bin/../lib/gcc/../../x86_64-conda-linux-gnu/include/c++/10.4.0/functional:61:\n",
      "In file included from /home/nlin/miniconda3/envs/xeus-cling/bin/../lib/gcc/../../x86_64-conda-linux-gnu/include/c++/10.4.0/unordered_map:41:\n",
      "In file included from /home/nlin/miniconda3/envs/xeus-cling/bin/../lib/gcc/../../x86_64-conda-linux-gnu/include/c++/10.4.0/ext/alloc_traits.h:34:\n",
      "In file included from /home/nlin/miniconda3/envs/xeus-cling/bin/../lib/gcc/../../x86_64-conda-linux-gnu/include/c++/10.4.0/bits/alloc_traits.h:33:\n",
      "\u001b[1m/home/nlin/miniconda3/envs/xeus-cling/bin/../lib/gcc/../../x86_64-conda-linux-gnu/include/c++/10.4.0/bits/stl_construct.h:177:51: \u001b[0m\u001b[0;1;31merror: \u001b[0m\u001b[1mno member named 'value' in 'std::is_destructible<int>'\u001b[0m\n",
      "      static_assert(is_destructible<_Value_type>::value,\n",
      "\u001b[0;1;32m                    ~~~~~~~~~~~~~~~~~~~~~~~~~~~~~~^\n",
      "\u001b[0m\u001b[1m/home/nlin/miniconda3/envs/xeus-cling/bin/../lib/gcc/../../x86_64-conda-linux-gnu/include/c++/10.4.0/bits/alloc_traits.h:842:7: \u001b[0m\u001b[0;1;30mnote: \u001b[0min instantiation of function template specialization 'std::_Destroy<int *>' requested here\u001b[0m\n",
      "      _Destroy(__first, __last);\n",
      "\u001b[0;1;32m      ^\n",
      "\u001b[0m\u001b[1m/home/nlin/miniconda3/envs/xeus-cling/bin/../lib/gcc/../../x86_64-conda-linux-gnu/include/c++/10.4.0/bits/stl_vector.h:680:7: \u001b[0m\u001b[0;1;30mnote: \u001b[0min instantiation of function template specialization 'std::_Destroy<int *, int>' requested here\u001b[0m\n",
      "        std::_Destroy(this->_M_impl._M_start, this->_M_impl._M_finish,\n",
      "\u001b[0;1;32m             ^\n",
      "\u001b[0m\u001b[1minput_line_22:3:27: \u001b[0m\u001b[0;1;30mnote: \u001b[0min instantiation of member function 'std::vector<int, std::allocator<int> >::~vector' requested here\u001b[0m\n",
      "      lmp::tensor::Tensor(std::vector<int>{1, 2, 3}, std::vector<size_t>{3, 1});\n",
      "\u001b[0;1;32m                          ^\n",
      "\u001b[0m"
     ]
    },
    {
     "ename": "Interpreter Error",
     "evalue": "",
     "output_type": "error",
     "traceback": [
      "Interpreter Error: "
     ]
    }
   ],
   "source": [
    "  auto a =\n",
    "      lmp::tensor::Tensor(std::vector<int>{1, 2, 3}, std::vector<size_t>{3, 1});\n",
    "  // auto b = lmp::tensor::Tensor(std::vector<int>{4, 5}, std::vector<size_t>{2});\n",
    "\n",
    "  // auto c = a + b;\n",
    "  // std::cout << c << std::endl;"
   ]
  },
  {
   "cell_type": "code",
   "execution_count": null,
   "metadata": {},
   "outputs": [],
   "source": []
  }
 ],
 "metadata": {
  "kernelspec": {
   "display_name": "C++17",
   "language": "C++17",
   "name": "xcpp17"
  },
  "language_info": {
   "codemirror_mode": "text/x-c++src",
   "file_extension": ".cpp",
   "mimetype": "text/x-c++src",
   "name": "c++",
   "version": "17"
  }
 },
 "nbformat": 4,
 "nbformat_minor": 4
}
