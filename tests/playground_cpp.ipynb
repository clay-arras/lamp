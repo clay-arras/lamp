{
 "cells": [
  {
   "cell_type": "code",
   "execution_count": 6,
   "metadata": {},
   "outputs": [],
   "source": [
    "#include <iostream>\n",
    "using stride_t = int; \n",
    "using T = float;"
   ]
  },
  {
   "cell_type": "code",
   "execution_count": 7,
   "metadata": {},
   "outputs": [],
   "source": [
    "void vecSumElement(const T* in, T* out, const size_t* shape, const stride_t* stride, size_t axis, size_t i, size_t ndims, size_t outSize) {\n",
    "  if (i < outSize) {\n",
    "    if (axis - 1 < 0) {\n",
    "        std::cout << \"Crashing due to illegal memory access\" << std::endl;\n",
    "        return;\n",
    "    }\n",
    "    stride_t outer = stride[axis];\n",
    "    stride_t inner = stride[axis - 1];\n",
    "    stride_t idx = (i / outer) * inner + (i % outer);\n",
    "    T sum = 0.0;\n",
    "    for (size_t j = 0; j < shape[axis]; ++j) {\n",
    "      sum += in[idx + j * outer];\n",
    "    }\n",
    "    out[i] = sum;\n",
    "  }\n",
    "}"
   ]
  },
  {
   "cell_type": "code",
   "execution_count": 8,
   "metadata": {},
   "outputs": [],
   "source": [
    "void vecSumCPU(const T* in, T* out, const size_t* shape, const stride_t* stride, size_t axis, size_t ndims, size_t size) {\n",
    "  // Allocate regular memory instead of cudaMalloc\n",
    "  size_t* h_shape = (size_t*)malloc(ndims * sizeof(size_t));\n",
    "  stride_t* h_stride = (stride_t*)malloc(ndims * sizeof(stride_t));\n",
    "  \n",
    "  // Copy data using regular memory operations instead of cudaMemcpy\n",
    "  memcpy(h_shape, shape, ndims * sizeof(size_t));\n",
    "  memcpy(h_stride, stride, ndims * sizeof(stride_t));\n",
    "  \n",
    "  size_t outSize = size / shape[axis];\n",
    "  \n",
    "  // Instead of launching a CUDA kernel, just use a CPU for loop\n",
    "  size_t threads = 256;\n",
    "  size_t blocks = (outSize + threads - 1) / threads;\n",
    "  for (size_t i = 0; i < blocks * threads; i++) {\n",
    "    vecSumElement(in, out, shape, stride, axis, i, ndims, outSize);\n",
    "  }\n",
    "  \n",
    "  // Free memory with standard free instead of cudaFree\n",
    "  free(h_shape);\n",
    "  free(h_stride);\n",
    "}\n"
   ]
  },
  {
   "cell_type": "code",
   "execution_count": 9,
   "metadata": {},
   "outputs": [
    {
     "name": "stdout",
     "output_type": "stream",
     "text": [
      "Original 3x2 array:\n",
      "1.0 2.0 \n",
      "3.0 4.0 \n",
      "5.0 2.0 \n",
      "\n",
      "Sum along axis 1 (columns):\n",
      "3.0\n",
      "7.0\n",
      "7.0\n"
     ]
    }
   ],
   "source": [
    "\n",
    "const size_t rows = 3;\n",
    "const size_t cols = 2;\n",
    "const size_t ndims = 2;  // 2D array\n",
    "\n",
    "// Calculate total size\n",
    "const size_t size = rows * cols;\n",
    "\n",
    "// Allocate memory for the input array\n",
    "float* array = (float*)malloc(size * sizeof(float));\n",
    "assert(array != NULL);\n",
    "\n",
    "// Initialize the array with values 1, 2, 3, 4, 5, 2\n",
    "float values[6] = {1.0f, 2.0f, 3.0f, 4.0f, 5.0f, 2.0f};\n",
    "memcpy(array, values, size * sizeof(float));\n",
    "\n",
    "// Print the original array\n",
    "printf(\"Original 3x2 array:\\n\");\n",
    "for (size_t i = 0; i < rows; i++) {\n",
    "    for (size_t j = 0; j < cols; j++) {\n",
    "        printf(\"%.1f \", array[i * cols + j]);\n",
    "    }\n",
    "    printf(\"\\n\");\n",
    "}\n",
    "\n",
    "// Define the shape and stride for our array\n",
    "size_t shape[ndims] = {rows, cols};\n",
    "stride_t stride[ndims];\n",
    "\n",
    "// Calculate strides (row-major order)\n",
    "stride[ndims-1] = 1;\n",
    "for (int i = ndims-2; i >= 0; i--) {\n",
    "    stride[i] = stride[i+1] * shape[i+1];\n",
    "}\n",
    "\n",
    "// Allocate memory for the output array\n",
    "// When summing along axis 1 (columns), the result will have shape (3,)\n",
    "float* result = (float*)malloc(rows * sizeof(float));\n",
    "assert(result != NULL);\n",
    "\n",
    "// Sum along axis 1 (columns)\n",
    "const size_t axis = 1;\n",
    "vecSumCPU(array, result, shape, stride, axis, ndims, size);\n",
    "\n",
    "// Print the result\n",
    "printf(\"\\nSum along axis 1 (columns):\\n\");\n",
    "for (size_t i = 0; i < rows; i++) {\n",
    "    printf(\"%.1f\\n\", result[i]);\n",
    "}\n",
    "\n",
    "// Free allocated memory\n",
    "free(array);\n",
    "free(result);"
   ]
  },
  {
   "cell_type": "code",
   "execution_count": null,
   "metadata": {},
   "outputs": [],
   "source": []
  }
 ],
 "metadata": {
  "kernelspec": {
   "display_name": "C++17",
   "language": "C++17",
   "name": "xcpp17"
  },
  "language_info": {
   "codemirror_mode": "text/x-c++src",
   "file_extension": ".cpp",
   "mimetype": "text/x-c++src",
   "name": "c++",
   "version": "17"
  }
 },
 "nbformat": 4,
 "nbformat_minor": 4
}
