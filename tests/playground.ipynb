{
 "cells": [
  {
   "cell_type": "code",
   "execution_count": 18,
   "metadata": {},
   "outputs": [],
   "source": [
    "import torch\n",
    "import hypothesis\n",
    "import math"
   ]
  },
  {
   "cell_type": "code",
   "execution_count": 19,
   "metadata": {},
   "outputs": [],
   "source": [
    "def find_common_reshape(init_a, init_b):\n",
    "    a = list(init_a)\n",
    "    b = list(init_b)\n",
    "\n",
    "    while len(a) < len(b):\n",
    "        a.insert(0, 1)\n",
    "    while len(b) < len(a):\n",
    "        b.insert(0, 1)\n",
    "\n",
    "    N = len(a)\n",
    "    a_res = 1\n",
    "    b_res = 1\n",
    "    for i in range(N - 1, -1, -1):\n",
    "        if a[i] == 1 or b[i] == 1:\n",
    "            continue\n",
    "        else:\n",
    "            a_res *= a[i]\n",
    "            b_res *= b[i]\n",
    "            gcd = math.gcd(a_res, b_res)\n",
    "            a_res = int(a_res / gcd)\n",
    "            b_res = int(b_res / gcd)\n",
    "            a[i] = gcd\n",
    "            b[i] = gcd\n",
    "\n",
    "    if a_res != 1 or b_res != 1:\n",
    "        a.insert(0, 1)\n",
    "        b.insert(0, b_res)\n",
    "        a.insert(0, a_res)\n",
    "\n",
    "    return a, b"
   ]
  },
  {
   "cell_type": "code",
   "execution_count": 20,
   "metadata": {},
   "outputs": [],
   "source": [
    "class DSU:\n",
    "    def __init__(self, n: int):\n",
    "        self.e = [-1] * n\n",
    "        self.list_head = [torch.tensor(1)] * n\n",
    "\n",
    "    def get(self, x: int) -> int:\n",
    "        \"\"\"Find with path compression.\"\"\"\n",
    "        if self.e[x] < 0:\n",
    "            return x\n",
    "        self.e[x] = self.get(self.e[x])\n",
    "        return self.e[x]\n",
    "\n",
    "    def get_head(self, x: int):\n",
    "        return self.list_head[self.get(x)]\n",
    "\n",
    "    def size(self, x: int) -> int:\n",
    "        \"\"\"Return size of the set containing x.\"\"\"\n",
    "        root = self.get(x)\n",
    "        return -self.e[root]\n",
    "\n",
    "    def unite(self, x: int, y: int, op) -> bool:\n",
    "        \"\"\"Union by size. Returns True if merged, False if already same set.\"\"\"\n",
    "        x = self.get(x)\n",
    "        y = self.get(y)\n",
    "        if x == y:\n",
    "            return False\n",
    "        if self.e[x] > self.e[y]:\n",
    "            x, y = y, x\n",
    "        self.e[x] += self.e[y]\n",
    "        self.e[y] = x\n",
    "\n",
    "        self.list_head[x] = op(self.list_head[x], self.list_head[y])\n",
    "        self.list_head[y] = None\n",
    "        return True"
   ]
  },
  {
   "cell_type": "code",
   "execution_count": 1,
   "metadata": {},
   "outputs": [],
   "source": [
    "from hypothesis import given\n",
    "from hypothesis.strategies import lists, integers\n",
    "\n",
    "@given(lists(integers(min_value=1)))\n",
    "def test_graph_builder(shapes):\n",
    "    print(shapes)"
   ]
  },
  {
   "cell_type": "code",
   "execution_count": null,
   "metadata": {},
   "outputs": [],
   "source": []
  }
 ],
 "metadata": {
  "kernelspec": {
   "display_name": ".venv",
   "language": "python",
   "name": "python3"
  },
  "language_info": {
   "codemirror_mode": {
    "name": "ipython",
    "version": 3
   },
   "file_extension": ".py",
   "mimetype": "text/x-python",
   "name": "python",
   "nbconvert_exporter": "python",
   "pygments_lexer": "ipython3",
   "version": "3.12.9"
  }
 },
 "nbformat": 4,
 "nbformat_minor": 2
}
