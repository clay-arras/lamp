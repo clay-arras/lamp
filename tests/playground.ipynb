{
 "cells": [
  {
   "cell_type": "code",
   "execution_count": 2,
   "metadata": {},
   "outputs": [],
   "source": [
    "import torch"
   ]
  },
  {
   "cell_type": "code",
   "execution_count": 53,
   "metadata": {},
   "outputs": [],
   "source": [
    "# done\n",
    "def calculateBroadcastShape(shape1, shape2):\n",
    "    out_dims = max(len(shape1), len(shape2))\n",
    "    shape_f = [0] * out_dims\n",
    "\n",
    "    for i in range(out_dims - 1, -1, -1):\n",
    "        offset = out_dims - 1 - i\n",
    "        dim1 = len(shape1) - 1 - offset\n",
    "        dim2 = len(shape2) - 1 - offset\n",
    "\n",
    "        size1 = shape1[dim1] if dim1 >= 0 else 1\n",
    "        size2 = shape2[dim2] if dim2 >= 0 else 1\n",
    "\n",
    "        assert size1 == 1 or size2 == 1 or size1 == size2\n",
    "        shape_f[i] = size1 if size1 != 1 else size2\n",
    "    return shape_f\n",
    "\n",
    "\n",
    "# done\n",
    "def calculateStrides(shape_f):\n",
    "    outstrides = [-1] * len(shape_f)\n",
    "    outstrides[-1] = 1  # last is one\n",
    "    for i in range(len(shape_f) - 1, 0, -1):\n",
    "        outstrides[i - 1] = outstrides[i] * shape_f[i]\n",
    "    return outstrides\n",
    "\n",
    "\n",
    "def threadToIndices(thread, outstrides):\n",
    "    outArr = [-1] * len(outstrides)\n",
    "    outArr[0] = int(thread / outstrides[0])\n",
    "    for st in range(1, len(outstrides)):\n",
    "        outArr[st] = int((thread % outstrides[st - 1]) / outstrides[st])\n",
    "    return outArr\n",
    "\n",
    "\n",
    "def indicesToThread(idx, outstrides):\n",
    "    prod = 0\n",
    "    for i, j in zip(idx, outstrides):\n",
    "        prod += i * j\n",
    "    return prod\n",
    "\n",
    "\n",
    "def execute(shape1, shape2, arr_1, arr_2):\n",
    "    f_shape = calculateBroadcastShape(shape1, shape2)\n",
    "    f_strides = calculateStrides(f_shape)\n",
    "\n",
    "    outsize = 1\n",
    "    for i in f_shape:\n",
    "        outsize *= i\n",
    "\n",
    "    while len(shape2) < len(f_shape):\n",
    "        shape2.insert(0, 1)\n",
    "    while len(shape1) < len(f_shape):\n",
    "        shape1.insert(0, 1)\n",
    "\n",
    "    strides1 = calculateStrides(shape1)\n",
    "    strides2 = calculateStrides(shape2)\n",
    "\n",
    "    for i in range(len(f_shape)):\n",
    "        if shape1[i] == 1:\n",
    "            strides1[i] = 0\n",
    "        if shape2[i] == 1:\n",
    "            strides2[i] = 0\n",
    "\n",
    "    out_arr = [0] * outsize\n",
    "    for f_thread in range(outsize):\n",
    "\n",
    "        idx = f_thread\n",
    "        thread1 = 0\n",
    "        thread2 = 0\n",
    "        for i in range(len(f_shape)):\n",
    "            this_idx = idx // f_strides[i]\n",
    "            idx = idx % f_strides[i]\n",
    "            thread1 += this_idx * strides1[i]\n",
    "            thread2 += this_idx * strides2[i]\n",
    "\n",
    "        out_arr[f_thread] = arr_1[thread1] + arr_2[thread2]\n",
    "\n",
    "    return out_arr"
   ]
  },
  {
   "cell_type": "code",
   "execution_count": null,
   "metadata": {},
   "outputs": [],
   "source": [
    "print(execute([3, 1], [2], [1, 2, 3], [4, 5]))"
   ]
  },
  {
   "cell_type": "code",
   "execution_count": null,
   "metadata": {},
   "outputs": [],
   "source": [
    "import torch\n",
    "\n",
    "shape1 = [3, 1]\n",
    "shape2 = [2]\n",
    "data1 = [1, 2, 3]\n",
    "data2 = [4, 5]\n",
    "\n",
    "tensor1 = torch.tensor(data1).reshape(shape1)\n",
    "tensor2 = torch.tensor(data2).reshape(shape2)\n",
    "\n",
    "print(tensor1)\n",
    "print(tensor2)\n",
    "print(tensor1 + tensor2)"
   ]
  },
  {
   "cell_type": "code",
   "execution_count": null,
   "metadata": {},
   "outputs": [],
   "source": []
  }
 ],
 "metadata": {
  "kernelspec": {
   "display_name": ".venv",
   "language": "python",
   "name": "python3"
  },
  "language_info": {
   "codemirror_mode": {
    "name": "ipython",
    "version": 3
   },
   "file_extension": ".py",
   "mimetype": "text/x-python",
   "name": "python",
   "nbconvert_exporter": "python",
   "pygments_lexer": "ipython3",
   "version": "3.12.9"
  }
 },
 "nbformat": 4,
 "nbformat_minor": 2
}
