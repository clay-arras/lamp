{
 "cells": [
  {
   "cell_type": "code",
   "execution_count": 8,
   "metadata": {},
   "outputs": [],
   "source": [
    "import sys, os\n",
    "\n",
    "PROJECT_ROOT = \"/home/nlin/workspace/code/projects/autograd_cpp\"\n",
    "sys.path.append(os.path.join(PROJECT_ROOT, \"build\"))\n",
    "\n",
    "import torch\n",
    "import hypothesis\n",
    "import math\n",
    "import lamppp"
   ]
  },
  {
   "cell_type": "code",
   "execution_count": null,
   "metadata": {},
   "outputs": [],
   "source": [
    "a = lamppp.cVariable(lamppp.cTensor([1, 2, 3, 4, 5], [1, 5]), True)\n",
    "b = lamppp.cVariable(lamppp.cTensor([1, 2, 3, 4, 5], [1, 5]), True)\n",
    "\n",
    "c = lamppp.add(a, b)\n",
    "c.backward()\n",
    "print(c)"
   ]
  }
 ],
 "metadata": {
  "kernelspec": {
   "display_name": ".venv",
   "language": "python",
   "name": "python3"
  },
  "language_info": {
   "codemirror_mode": {
    "name": "ipython",
    "version": 3
   },
   "file_extension": ".py",
   "mimetype": "text/x-python",
   "name": "python",
   "nbconvert_exporter": "python",
   "pygments_lexer": "ipython3",
   "version": "3.11.11"
  }
 },
 "nbformat": 4,
 "nbformat_minor": 2
}
