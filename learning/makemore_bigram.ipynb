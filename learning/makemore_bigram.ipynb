{
 "cells": [
  {
   "cell_type": "code",
   "execution_count": 2,
   "metadata": {},
   "outputs": [],
   "source": [
    "import numpy as np"
   ]
  },
  {
   "cell_type": "code",
   "execution_count": null,
   "metadata": {},
   "outputs": [],
   "source": [
    "words = open(\"../data/names.txt\", \"r\").read().splitlines()\n",
    "print(words[:10])\n",
    "\n",
    "i = np.argmin([len(w) for w in words])\n",
    "print(words[i])"
   ]
  },
  {
   "cell_type": "code",
   "execution_count": 4,
   "metadata": {},
   "outputs": [],
   "source": [
    "from collections import defaultdict\n",
    "\n",
    "bigram = defaultdict(lambda: defaultdict(lambda: 0))\n",
    "\n",
    "for word in words:\n",
    "    chs = [\"<S>\"] + list(word) + [\"<E>\"]\n",
    "    for cs, ce in zip(chs, chs[1:]):\n",
    "        bigram[cs][ce] += 1"
   ]
  },
  {
   "cell_type": "code",
   "execution_count": null,
   "metadata": {},
   "outputs": [],
   "source": [
    "from numpy.random import choice\n",
    "\n",
    "cur_char = \"<S>\"\n",
    "out = \"\"\n",
    "while cur_char != \"<E>\":\n",
    "    out += cur_char if cur_char != \"<S>\" else \"\"\n",
    "    val = np.array(list(bigram[cur_char].values()))\n",
    "    draw = choice(np.array(list(bigram[cur_char].keys())), size=1, p=val / np.sum(val))\n",
    "    cur_char = draw[0]\n",
    "\n",
    "out"
   ]
  },
  {
   "cell_type": "code",
   "execution_count": 72,
   "metadata": {},
   "outputs": [],
   "source": [
    "import torch\n",
    "\n",
    "N = torch.ones((27, 27), dtype=torch.int32)\n",
    "chars = sorted(list(set(\"\".join(words))))\n",
    "stoi = {s: i + 1 for i, s in enumerate(chars)}\n",
    "stoi[\".\"] = 0\n",
    "\n",
    "for w in words:\n",
    "    chs = [\".\"] + list(w) + [\".\"]\n",
    "    for cs, ce in zip(chs, chs[1:]):\n",
    "        N[stoi[cs], stoi[ce]] += 1"
   ]
  },
  {
   "cell_type": "code",
   "execution_count": null,
   "metadata": {},
   "outputs": [],
   "source": [
    "import matplotlib.pyplot as plt\n",
    "\n",
    "%matplotlib inline\n",
    "\n",
    "itos = {v: k for k, v in stoi.items()}\n",
    "plt.figure(figsize=(16, 16))\n",
    "plt.imshow(N, cmap=\"Blues\")\n",
    "\n",
    "for i in range(27):\n",
    "    for j in range(27):\n",
    "        chstr = itos[i] + itos[j]\n",
    "        plt.text(j, i, chstr, ha=\"center\", va=\"bottom\", color=\"gray\")\n",
    "        plt.text(j, i, N[i, j].item(), ha=\"center\", va=\"top\", color=\"gray\")\n",
    "\n",
    "plt.axis(\"off\")"
   ]
  },
  {
   "cell_type": "code",
   "execution_count": 74,
   "metadata": {},
   "outputs": [],
   "source": [
    "# epsilon = 0.0000001\n",
    "# for i in range(28):\n",
    "#     p = N[i].float()\n",
    "#     p = p/(p.sum() + epsilon)\n",
    "#     # N[i] = p"
   ]
  },
  {
   "cell_type": "code",
   "execution_count": 75,
   "metadata": {},
   "outputs": [],
   "source": [
    "P = N.float() / torch.sum(N, dim=1, keepdim=True)"
   ]
  },
  {
   "cell_type": "code",
   "execution_count": null,
   "metadata": {},
   "outputs": [],
   "source": [
    "epsilon = 0.0000001\n",
    "g = torch.Generator().manual_seed(2147483647)\n",
    "\n",
    "out = []\n",
    "ix = 0\n",
    "while True:\n",
    "    p = P[ix]\n",
    "    ix = torch.multinomial(p, num_samples=1, replacement=True, generator=g).item()\n",
    "    out.append(itos[ix])\n",
    "    if ix == 0:\n",
    "        break\n",
    "\n",
    "nout = \"\".join(out)\n",
    "print(f\"{nout=}\")"
   ]
  },
  {
   "cell_type": "code",
   "execution_count": null,
   "metadata": {},
   "outputs": [],
   "source": [
    "# likelihood = 1.0\n",
    "loglikelihood = 0.0\n",
    "n = 0\n",
    "epsilon = 0.0\n",
    "\n",
    "for w in [\"andrejq\"]:\n",
    "    chs = [\".\"] + list(w) + [\".\"]\n",
    "    for cs, ce in zip(chs, chs[1:]):\n",
    "        csi = stoi[cs]\n",
    "        cei = stoi[ce]\n",
    "        ll = torch.log(P[csi, cei] + epsilon)\n",
    "        loglikelihood += ll\n",
    "        n += 1\n",
    "\n",
    "nll = -loglikelihood\n",
    "anll = nll / n\n",
    "print(f\"{anll=}\")"
   ]
  },
  {
   "cell_type": "code",
   "execution_count": 79,
   "metadata": {},
   "outputs": [],
   "source": [
    "xs, ys = [], []\n",
    "for w in words:\n",
    "    chs = [\".\"] + list(w) + [\".\"]\n",
    "    for cs, ce in zip(chs, chs[1:]):\n",
    "        csi = stoi[cs]\n",
    "        cei = stoi[ce]\n",
    "        xs.append(csi)\n",
    "        ys.append(cei)\n",
    "\n",
    "xs = torch.tensor(xs)\n",
    "ys = torch.tensor(ys)"
   ]
  },
  {
   "cell_type": "code",
   "execution_count": null,
   "metadata": {},
   "outputs": [],
   "source": []
  }
 ],
 "metadata": {
  "kernelspec": {
   "display_name": "Python 3",
   "language": "python",
   "name": "python3"
  },
  "language_info": {
   "codemirror_mode": {
    "name": "ipython",
    "version": 3
   },
   "file_extension": ".py",
   "mimetype": "text/x-python",
   "name": "python",
   "nbconvert_exporter": "python",
   "pygments_lexer": "ipython3",
   "version": "3.10.12"
  }
 },
 "nbformat": 4,
 "nbformat_minor": 2
}
